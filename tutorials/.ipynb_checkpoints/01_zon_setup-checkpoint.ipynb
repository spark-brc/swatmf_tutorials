{
 "cells": [
  {
   "cell_type": "markdown",
   "id": "1cc50204",
   "metadata": {},
   "source": [
    "# 1. Let's import necessary libraries"
   ]
  },
  {
   "cell_type": "code",
   "execution_count": 1,
   "id": "848f2a87",
   "metadata": {},
   "outputs": [],
   "source": [
    "import pyemu\n",
    "import os\n",
    "import warnings\n",
    "warnings.filterwarnings(\"ignore\")\n",
    "warnings.filterwarnings(\"ignore\", category=DeprecationWarning) \n",
    "import pandas as pd\n",
    "import matplotlib.pyplot as plt\n",
    "import psutil\n",
    "import shutil\n",
    "import numpy as np\n",
    "import sys\n",
    "import flopy"
   ]
  },
  {
   "cell_type": "markdown",
   "id": "ea251d91-4d5e-4811-85ee-2697bf7057dc",
   "metadata": {},
   "source": [
    "## work with the latest version of swatmf"
   ]
  },
  {
   "cell_type": "code",
   "execution_count": 2,
   "id": "8fa35c62-0721-43af-8283-45d4e8b3908f",
   "metadata": {},
   "outputs": [],
   "source": [
    "path = os.path.abspath(os.path.join(os.getcwd(), os.pardir))\n",
    "sys.path.insert(1, path)\n",
    "from swatmf import swatmf_pst_utils"
   ]
  },
  {
   "cell_type": "markdown",
   "id": "22a8da66",
   "metadata": {},
   "source": [
    "# 2. Set up and write swatmf.con file"
   ]
  },
  {
   "cell_type": "code",
   "execution_count": null,
   "id": "7d76b1e7",
   "metadata": {},
   "outputs": [],
   "source": [
    "swatmf_pst_utils.create_swatmf_con?"
   ]
  },
  {
   "cell_type": "code",
   "execution_count": 4,
   "id": "a3d4c005-6a91-43dc-a4d1-17ea2a25514e",
   "metadata": {},
   "outputs": [],
   "source": [
    "# working directory\n",
    "swatmf_model = \"D:/test/middle_bosque_1000/SWAT-MODFLOW\"\n",
    "swat_model = \"D:/test/middle_bosque_1000/SWAT\""
   ]
  },
  {
   "cell_type": "code",
   "execution_count": 7,
   "id": "fc1328a1",
   "metadata": {},
   "outputs": [],
   "source": [
    "# calibration period\n",
    "sim_start = '1/1/1985'\n",
    "warmup = 0\n",
    "cal_start = '1/1/1985'\n",
    "cal_end = '12/31/1985'\n",
    "\n",
    "# time step\n",
    "time_step = 'day'\n",
    "\n",
    "# locations (what our targets)\n",
    "subs = [58]\n",
    "grids = [501]"
   ]
  },
  {
   "cell_type": "code",
   "execution_count": 8,
   "id": "393fe07c",
   "metadata": {},
   "outputs": [
    {
     "data": {
      "text/html": [
       "<div>\n",
       "<style scoped>\n",
       "    .dataframe tbody tr th:only-of-type {\n",
       "        vertical-align: middle;\n",
       "    }\n",
       "\n",
       "    .dataframe tbody tr th {\n",
       "        vertical-align: top;\n",
       "    }\n",
       "\n",
       "    .dataframe thead th {\n",
       "        text-align: right;\n",
       "    }\n",
       "</style>\n",
       "<table border=\"1\" class=\"dataframe\">\n",
       "  <thead>\n",
       "    <tr style=\"text-align: right;\">\n",
       "      <th></th>\n",
       "      <th>names</th>\n",
       "      <th>vals</th>\n",
       "    </tr>\n",
       "  </thead>\n",
       "  <tbody>\n",
       "    <tr>\n",
       "      <th>0</th>\n",
       "      <td>wd</td>\n",
       "      <td>D:/test/middle_bosque_1000/SWAT-MODFLOW</td>\n",
       "    </tr>\n",
       "    <tr>\n",
       "      <th>1</th>\n",
       "      <td>sim_start</td>\n",
       "      <td>1/1/1985</td>\n",
       "    </tr>\n",
       "    <tr>\n",
       "      <th>2</th>\n",
       "      <td>warm-up</td>\n",
       "      <td>0</td>\n",
       "    </tr>\n",
       "    <tr>\n",
       "      <th>3</th>\n",
       "      <td>cal_start</td>\n",
       "      <td>1/1/1985</td>\n",
       "    </tr>\n",
       "    <tr>\n",
       "      <th>4</th>\n",
       "      <td>cal_end</td>\n",
       "      <td>12/31/1985</td>\n",
       "    </tr>\n",
       "    <tr>\n",
       "      <th>5</th>\n",
       "      <td>subs</td>\n",
       "      <td>[58]</td>\n",
       "    </tr>\n",
       "    <tr>\n",
       "      <th>6</th>\n",
       "      <td>grids</td>\n",
       "      <td>[501]</td>\n",
       "    </tr>\n",
       "    <tr>\n",
       "      <th>7</th>\n",
       "      <td>riv_parm</td>\n",
       "      <td>n</td>\n",
       "    </tr>\n",
       "    <tr>\n",
       "      <th>8</th>\n",
       "      <td>baseflow</td>\n",
       "      <td>n</td>\n",
       "    </tr>\n",
       "    <tr>\n",
       "      <th>9</th>\n",
       "      <td>time_step</td>\n",
       "      <td>day</td>\n",
       "    </tr>\n",
       "    <tr>\n",
       "      <th>10</th>\n",
       "      <td>pp_included</td>\n",
       "      <td>n</td>\n",
       "    </tr>\n",
       "  </tbody>\n",
       "</table>\n",
       "</div>"
      ],
      "text/plain": [
       "          names                                     vals\n",
       "0            wd  D:/test/middle_bosque_1000/SWAT-MODFLOW\n",
       "1     sim_start                                 1/1/1985\n",
       "2       warm-up                                        0\n",
       "3     cal_start                                 1/1/1985\n",
       "4       cal_end                               12/31/1985\n",
       "5          subs                                     [58]\n",
       "6         grids                                    [501]\n",
       "7      riv_parm                                        n\n",
       "8      baseflow                                        n\n",
       "9     time_step                                      day\n",
       "10  pp_included                                        n"
      ]
     },
     "execution_count": 8,
     "metadata": {},
     "output_type": "execute_result"
    }
   ],
   "source": [
    "swatmf_pst_utils.create_swatmf_con(\n",
    "    swatmf_model, sim_start, warmup, cal_start, cal_end, subs=subs, grids=grids)"
   ]
  },
  {
   "cell_type": "markdown",
   "id": "714b9f31",
   "metadata": {},
   "source": [
    "## 2.1 PEST initial setup"
   ]
  },
  {
   "cell_type": "code",
   "execution_count": 9,
   "id": "893b1e17",
   "metadata": {},
   "outputs": [
    {
     "name": "stdout",
     "output_type": "stream",
     "text": [
      " Creating 'backup' folder ...\r"
     ]
    },
    {
     "name": "stderr",
     "output_type": "stream",
     "text": [
      "100%|████████████████████████████████████████████████████████████████████████████| 12300/12300 [02:17<00:00, 89.64it/s]"
     ]
    },
    {
     "name": "stdout",
     "output_type": "stream",
     "text": [
      " Creating 'backup' folder ...\u001b[32m passed\u001b[0m\n",
      " Creating 'echo' folder ...\u001b[32m passed\u001b[0m\n",
      " Creating 'sufi2.in' folder ...\u001b[32m passed\u001b[0m\n"
     ]
    },
    {
     "name": "stderr",
     "output_type": "stream",
     "text": [
      "\n"
     ]
    }
   ],
   "source": [
    "# copy all necessary files (exes) to your working direcotry\n",
    "swatmf_pst_utils.init_setup(swatmf_model, swat_model)"
   ]
  },
  {
   "cell_type": "code",
   "execution_count": 10,
   "id": "81c68d35",
   "metadata": {},
   "outputs": [
    {
     "name": "stdout",
     "output_type": "stream",
     "text": [
      "\n",
      "modflow MODEL DATA VALIDATION SUMMARY:\n",
      "  8 Errors:\n",
      "    DIS package: thin cells (less than checker threshold of 1.0)\n",
      "    RIV package: rbot below cell bottom\n",
      "  3 Warnings:\n",
      "    OC package: action(s) defined in OC stress_period_data ignored as they are not part the stress periods defined by DIS\n",
      "    RCH package: Mean R/T ratio < checker warning threshold of 2e-08 for 1 stress periods\n",
      "    RCH package: Variable NRCHOP set to value other than 3\n",
      "\n",
      "  Checks that passed:\n",
      "    Unit number conflicts\n",
      "    Compatible solver package\n",
      "    DIS package: zero or negative thickness\n",
      "    DIS package: nan values in top array\n",
      "    DIS package: nan values in bottom array\n",
      "    BAS6 package: isolated cells in ibound array\n",
      "    BAS6 package: Not a number\n",
      "    UPW package: zero or negative horizontal hydraulic conductivity values\n",
      "    UPW package: zero or negative vertical hydraulic conductivity values\n",
      "    UPW package: negative horizontal anisotropy values\n",
      "    UPW package: horizontal hydraulic conductivity values below checker threshold of 1e-11\n",
      "    UPW package: horizontal hydraulic conductivity values above checker threshold of 100000.0\n",
      "    UPW package: vertical hydraulic conductivity values below checker threshold of 1e-11\n",
      "    UPW package: vertical hydraulic conductivity values above checker threshold of 100000.0\n",
      "    UPW package: zero or negative specific storage values\n",
      "    UPW package: specific storage values below checker threshold of 1e-06\n",
      "    UPW package: specific storage values above checker threshold of 0.01\n",
      "    UPW package: zero or negative specific yield values\n",
      "    UPW package: specific yield values below checker threshold of 0.01\n",
      "    UPW package: specific yield values above checker threshold of 0.5\n",
      "    RIV package: stage below cell bottom\n",
      "    RIV package: RIV stage below rbots\n",
      "\n"
     ]
    },
    {
     "data": {
      "text/plain": [
       "<flopy.utils.check.check at 0x1f255d5ee90>"
      ]
     },
     "execution_count": 10,
     "metadata": {},
     "output_type": "execute_result"
    }
   ],
   "source": [
    "# check MODFLOW model\n",
    "mname = \"modflow.mfn\"\n",
    "m = flopy.modflow.Modflow.load(mname,model_ws=swatmf_model)\n",
    "m.check()"
   ]
  },
  {
   "cell_type": "markdown",
   "id": "18db09eb",
   "metadata": {},
   "source": [
    "# 3. Build template files"
   ]
  },
  {
   "cell_type": "code",
   "execution_count": 11,
   "id": "0aa3578e",
   "metadata": {},
   "outputs": [],
   "source": [
    "os.chdir(swatmf_model)"
   ]
  },
  {
   "cell_type": "markdown",
   "id": "bf9c306a",
   "metadata": {},
   "source": [
    "## 3.1 MODFLOW pval"
   ]
  },
  {
   "cell_type": "code",
   "execution_count": 12,
   "id": "8c062805",
   "metadata": {},
   "outputs": [],
   "source": [
    "# pval file\n",
    "pval_file = 'mf_1000.pval'"
   ]
  },
  {
   "cell_type": "code",
   "execution_count": 13,
   "id": "e3c42826",
   "metadata": {},
   "outputs": [
    {
     "data": {
      "text/html": [
       "<div>\n",
       "<style scoped>\n",
       "    .dataframe tbody tr th:only-of-type {\n",
       "        vertical-align: middle;\n",
       "    }\n",
       "\n",
       "    .dataframe tbody tr th {\n",
       "        vertical-align: top;\n",
       "    }\n",
       "\n",
       "    .dataframe thead th {\n",
       "        text-align: right;\n",
       "    }\n",
       "</style>\n",
       "<table border=\"1\" class=\"dataframe\">\n",
       "  <thead>\n",
       "    <tr style=\"text-align: right;\">\n",
       "      <th></th>\n",
       "      <th>parnme</th>\n",
       "      <th>parval1</th>\n",
       "      <th>tpl</th>\n",
       "    </tr>\n",
       "    <tr>\n",
       "      <th>parnme</th>\n",
       "      <th></th>\n",
       "      <th></th>\n",
       "      <th></th>\n",
       "    </tr>\n",
       "  </thead>\n",
       "  <tbody>\n",
       "    <tr>\n",
       "      <th>hk01</th>\n",
       "      <td>hk01</td>\n",
       "      <td>1.00</td>\n",
       "      <td>~   hk01              ~</td>\n",
       "    </tr>\n",
       "    <tr>\n",
       "      <th>hk02</th>\n",
       "      <td>hk02</td>\n",
       "      <td>1.00</td>\n",
       "      <td>~   hk02              ~</td>\n",
       "    </tr>\n",
       "    <tr>\n",
       "      <th>sy01</th>\n",
       "      <td>sy01</td>\n",
       "      <td>0.01</td>\n",
       "      <td>~   sy01              ~</td>\n",
       "    </tr>\n",
       "    <tr>\n",
       "      <th>sy02</th>\n",
       "      <td>sy02</td>\n",
       "      <td>0.01</td>\n",
       "      <td>~   sy02              ~</td>\n",
       "    </tr>\n",
       "  </tbody>\n",
       "</table>\n",
       "</div>"
      ],
      "text/plain": [
       "       parnme  parval1                       tpl\n",
       "parnme                                          \n",
       "hk01     hk01     1.00   ~   hk01              ~\n",
       "hk02     hk02     1.00   ~   hk02              ~\n",
       "sy01     sy01     0.01   ~   sy01              ~\n",
       "sy02     sy02     0.01   ~   sy02              ~"
      ]
     },
     "execution_count": 13,
     "metadata": {},
     "output_type": "execute_result"
    }
   ],
   "source": [
    "gw_par = pyemu.utils.gw_utils.modflow_pval_to_template_file(pval_file, tpl_file=None)\n",
    "gw_par"
   ]
  },
  {
   "cell_type": "markdown",
   "id": "eadabb62",
   "metadata": {},
   "source": [
    "## 3.2 SWAT model.in file"
   ]
  },
  {
   "cell_type": "code",
   "execution_count": 14,
   "id": "6bd0545f",
   "metadata": {},
   "outputs": [
    {
     "data": {
      "text/html": [
       "<div>\n",
       "<style scoped>\n",
       "    .dataframe tbody tr th:only-of-type {\n",
       "        vertical-align: middle;\n",
       "    }\n",
       "\n",
       "    .dataframe tbody tr th {\n",
       "        vertical-align: top;\n",
       "    }\n",
       "\n",
       "    .dataframe thead th {\n",
       "        text-align: right;\n",
       "    }\n",
       "</style>\n",
       "<table border=\"1\" class=\"dataframe\">\n",
       "  <thead>\n",
       "    <tr style=\"text-align: right;\">\n",
       "      <th></th>\n",
       "      <th>parnme</th>\n",
       "      <th>parval1</th>\n",
       "      <th>tpl</th>\n",
       "    </tr>\n",
       "    <tr>\n",
       "      <th>parnme</th>\n",
       "      <th></th>\n",
       "      <th></th>\n",
       "      <th></th>\n",
       "    </tr>\n",
       "  </thead>\n",
       "  <tbody>\n",
       "    <tr>\n",
       "      <th>r__CN2.mgt</th>\n",
       "      <td>r__CN2.mgt</td>\n",
       "      <td>0.001</td>\n",
       "      <td>~   CN2               ~</td>\n",
       "    </tr>\n",
       "    <tr>\n",
       "      <th>r__SOL_AWC().sol</th>\n",
       "      <td>r__SOL_AWC().sol</td>\n",
       "      <td>0.001</td>\n",
       "      <td>~   SOL_AWC()         ~</td>\n",
       "    </tr>\n",
       "    <tr>\n",
       "      <th>v__ESCO.hru</th>\n",
       "      <td>v__ESCO.hru</td>\n",
       "      <td>0.001</td>\n",
       "      <td>~   ESCO              ~</td>\n",
       "    </tr>\n",
       "  </tbody>\n",
       "</table>\n",
       "</div>"
      ],
      "text/plain": [
       "                            parnme  parval1                       tpl\n",
       "parnme                                                               \n",
       "r__CN2.mgt              r__CN2.mgt    0.001   ~   CN2               ~\n",
       "r__SOL_AWC().sol  r__SOL_AWC().sol    0.001   ~   SOL_AWC()         ~\n",
       "v__ESCO.hru            v__ESCO.hru    0.001   ~   ESCO              ~"
      ]
     },
     "execution_count": 14,
     "metadata": {},
     "output_type": "execute_result"
    }
   ],
   "source": [
    "# model.in file used\n",
    "sw_par = swatmf_pst_utils.model_in_to_template_file()\n",
    "sw_par"
   ]
  },
  {
   "cell_type": "markdown",
   "id": "8f0eb2b2",
   "metadata": {},
   "source": [
    "# 4. Build instruction files"
   ]
  },
  {
   "cell_type": "markdown",
   "id": "ac4903cf-247a-4929-8e4f-14570fde674e",
   "metadata": {},
   "source": [
    "### Let's do initial run!"
   ]
  },
  {
   "cell_type": "markdown",
   "id": "ce76961c",
   "metadata": {},
   "source": [
    "## 4.1 Streamflow (SWAT)"
   ]
  },
  {
   "cell_type": "code",
   "execution_count": 15,
   "id": "5e738ea9",
   "metadata": {},
   "outputs": [
    {
     "name": "stdout",
     "output_type": "stream",
     "text": [
      "stf_058.txt file has been created...\n",
      "Finished ...\n"
     ]
    }
   ],
   "source": [
    "# extract daily stream discharge\n",
    "swatmf_pst_utils.extract_day_stf(subs, sim_start, warmup, cal_start, cal_end)"
   ]
  },
  {
   "cell_type": "markdown",
   "id": "62748b00",
   "metadata": {},
   "source": [
    "## 4.2 match it with stf_obd file (SWAT)"
   ]
  },
  {
   "cell_type": "code",
   "execution_count": 16,
   "id": "2439ccf0",
   "metadata": {},
   "outputs": [
    {
     "name": "stdout",
     "output_type": "stream",
     "text": [
      "stf_058.txt.ins file has been created...\n"
     ]
    },
    {
     "data": {
      "text/plain": [
       "date\n",
       "1985-01-01    l1 w !rch058_19850101!\n",
       "1985-01-02    l1 w !rch058_19850102!\n",
       "1985-01-03    l1 w !rch058_19850103!\n",
       "1985-01-04    l1 w !rch058_19850104!\n",
       "1985-01-05    l1 w !rch058_19850105!\n",
       "                       ...          \n",
       "1985-12-27                        l1\n",
       "1985-12-28                        l1\n",
       "1985-12-29                        l1\n",
       "1985-12-30                        l1\n",
       "1985-12-31                        l1\n",
       "Freq: D, Name: rch058_ins, Length: 365, dtype: object"
      ]
     },
     "execution_count": 16,
     "metadata": {},
     "output_type": "execute_result"
    }
   ],
   "source": [
    "swatmf_pst_utils.stf_obd_to_ins('stf_058.txt', 'rch058',cal_start, cal_end)"
   ]
  },
  {
   "cell_type": "markdown",
   "id": "2dcd0109",
   "metadata": {},
   "source": [
    "## 4.3 Depth to watertable (MODFLOW) "
   ]
  },
  {
   "cell_type": "code",
   "execution_count": 17,
   "id": "6e2cfae6-e1bc-414e-b55c-79cd7de007b6",
   "metadata": {},
   "outputs": [],
   "source": [
    "mf_obs_grid_ids = pd.read_csv(\n",
    "                    os.path.join(swatmf_model, 'modflow.obs'),\n",
    "                    sep=r'\\s+',\n",
    "                    usecols=[3, 4],\n",
    "                    skiprows=2,\n",
    "                    header=None\n",
    "                    )"
   ]
  },
  {
   "cell_type": "code",
   "execution_count": 22,
   "id": "ab1e037a-79c1-4add-9358-cec4678f9ab9",
   "metadata": {},
   "outputs": [],
   "source": [
    "mf_sim = pd.read_csv(\n",
    "                     os.path.join(swatmf_model, 'swatmf_out_MF_obs'), skiprows=1, sep=r'\\s+',\n",
    "                    names=col_names,\n",
    "                    # usecols=grids,\n",
    "                    )\n",
    "mf_sim.index = pd.date_range(sim_start, periods=len(mf_sim))\n",
    "mf_sim = mf_sim[sim_start:cal_end]"
   ]
  },
  {
   "cell_type": "code",
   "execution_count": 23,
   "id": "17eb7144",
   "metadata": {},
   "outputs": [
    {
     "name": "stdout",
     "output_type": "stream",
     "text": [
      "dtw_501.txt file has been created...\n",
      "Finished ...\n"
     ]
    }
   ],
   "source": [
    "swatmf_pst_utils.extract_depth_to_water(grids, sim_start, cal_end)"
   ]
  },
  {
   "cell_type": "markdown",
   "id": "d8b70176",
   "metadata": {},
   "source": [
    "## 4.4 match it with modflow.obd file (MODFLOW)"
   ]
  },
  {
   "cell_type": "code",
   "execution_count": 24,
   "id": "60cab2c9",
   "metadata": {},
   "outputs": [
    {
     "name": "stdout",
     "output_type": "stream",
     "text": [
      "dtw_501.txt.ins file has been created...\n"
     ]
    },
    {
     "data": {
      "text/plain": [
       "date\n",
       "1985-01-01                        l1\n",
       "1985-01-02                        l1\n",
       "1985-01-03                        l1\n",
       "1985-01-04                        l1\n",
       "1985-01-05                        l1\n",
       "                       ...          \n",
       "1985-12-27    l1 w !g_5699_19851227!\n",
       "1985-12-28    l1 w !g_5699_19851228!\n",
       "1985-12-29    l1 w !g_5699_19851229!\n",
       "1985-12-30    l1 w !g_5699_19851230!\n",
       "1985-12-31    l1 w !g_5699_19851231!\n",
       "Freq: D, Name: g_5699_ins, Length: 365, dtype: object"
      ]
     },
     "execution_count": 24,
     "metadata": {},
     "output_type": "execute_result"
    }
   ],
   "source": [
    "swatmf_pst_utils.mf_obd_to_ins('dtw_501.txt', 'g_5699', cal_start, cal_end)"
   ]
  },
  {
   "cell_type": "markdown",
   "id": "ff674ea0",
   "metadata": {},
   "source": [
    "# 5. Create PEST control file"
   ]
  },
  {
   "cell_type": "code",
   "execution_count": 25,
   "id": "61efa9f4",
   "metadata": {},
   "outputs": [
    {
     "name": "stdout",
     "output_type": "stream",
     "text": [
      "noptmax:30, npar_adj:7, nnz_obs:305\n"
     ]
    },
    {
     "data": {
      "text/plain": [
       "<pyemu.pst.pst_handler.Pst at 0x1f255d0b6a0>"
      ]
     },
     "execution_count": 25,
     "metadata": {},
     "output_type": "execute_result"
    }
   ],
   "source": [
    "io_files = pyemu.helpers.parse_dir_for_io_files('.')\n",
    "pst = pyemu.Pst.from_io_files(*io_files)\n",
    "pyemu.helpers.pst_from_io_files(io_files[0], io_files[1], io_files[2], io_files[3], 'mb_zon_dummy.pst')"
   ]
  },
  {
   "cell_type": "code",
   "execution_count": 26,
   "id": "db69059b",
   "metadata": {},
   "outputs": [
    {
     "data": {
      "text/html": [
       "<div>\n",
       "<style scoped>\n",
       "    .dataframe tbody tr th:only-of-type {\n",
       "        vertical-align: middle;\n",
       "    }\n",
       "\n",
       "    .dataframe tbody tr th {\n",
       "        vertical-align: top;\n",
       "    }\n",
       "\n",
       "    .dataframe thead th {\n",
       "        text-align: right;\n",
       "    }\n",
       "</style>\n",
       "<table border=\"1\" class=\"dataframe\">\n",
       "  <thead>\n",
       "    <tr style=\"text-align: right;\">\n",
       "      <th></th>\n",
       "      <th>parnme</th>\n",
       "      <th>partrans</th>\n",
       "      <th>parchglim</th>\n",
       "      <th>parval1</th>\n",
       "      <th>parlbnd</th>\n",
       "      <th>parubnd</th>\n",
       "      <th>pargp</th>\n",
       "      <th>scale</th>\n",
       "      <th>offset</th>\n",
       "      <th>dercom</th>\n",
       "    </tr>\n",
       "  </thead>\n",
       "  <tbody>\n",
       "    <tr>\n",
       "      <th>cn2</th>\n",
       "      <td>cn2</td>\n",
       "      <td>log</td>\n",
       "      <td>factor</td>\n",
       "      <td>1.0</td>\n",
       "      <td>1.100000e-10</td>\n",
       "      <td>1.100000e+10</td>\n",
       "      <td>pargp</td>\n",
       "      <td>1.0</td>\n",
       "      <td>0.0</td>\n",
       "      <td>1</td>\n",
       "    </tr>\n",
       "    <tr>\n",
       "      <th>esco</th>\n",
       "      <td>esco</td>\n",
       "      <td>log</td>\n",
       "      <td>factor</td>\n",
       "      <td>1.0</td>\n",
       "      <td>1.100000e-10</td>\n",
       "      <td>1.100000e+10</td>\n",
       "      <td>pargp</td>\n",
       "      <td>1.0</td>\n",
       "      <td>0.0</td>\n",
       "      <td>1</td>\n",
       "    </tr>\n",
       "    <tr>\n",
       "      <th>hk01</th>\n",
       "      <td>hk01</td>\n",
       "      <td>log</td>\n",
       "      <td>factor</td>\n",
       "      <td>1.0</td>\n",
       "      <td>1.100000e-10</td>\n",
       "      <td>1.100000e+10</td>\n",
       "      <td>pargp</td>\n",
       "      <td>1.0</td>\n",
       "      <td>0.0</td>\n",
       "      <td>1</td>\n",
       "    </tr>\n",
       "    <tr>\n",
       "      <th>hk02</th>\n",
       "      <td>hk02</td>\n",
       "      <td>log</td>\n",
       "      <td>factor</td>\n",
       "      <td>1.0</td>\n",
       "      <td>1.100000e-10</td>\n",
       "      <td>1.100000e+10</td>\n",
       "      <td>pargp</td>\n",
       "      <td>1.0</td>\n",
       "      <td>0.0</td>\n",
       "      <td>1</td>\n",
       "    </tr>\n",
       "    <tr>\n",
       "      <th>sol_awc()</th>\n",
       "      <td>sol_awc()</td>\n",
       "      <td>log</td>\n",
       "      <td>factor</td>\n",
       "      <td>1.0</td>\n",
       "      <td>1.100000e-10</td>\n",
       "      <td>1.100000e+10</td>\n",
       "      <td>pargp</td>\n",
       "      <td>1.0</td>\n",
       "      <td>0.0</td>\n",
       "      <td>1</td>\n",
       "    </tr>\n",
       "    <tr>\n",
       "      <th>sy01</th>\n",
       "      <td>sy01</td>\n",
       "      <td>log</td>\n",
       "      <td>factor</td>\n",
       "      <td>1.0</td>\n",
       "      <td>1.100000e-10</td>\n",
       "      <td>1.100000e+10</td>\n",
       "      <td>pargp</td>\n",
       "      <td>1.0</td>\n",
       "      <td>0.0</td>\n",
       "      <td>1</td>\n",
       "    </tr>\n",
       "    <tr>\n",
       "      <th>sy02</th>\n",
       "      <td>sy02</td>\n",
       "      <td>log</td>\n",
       "      <td>factor</td>\n",
       "      <td>1.0</td>\n",
       "      <td>1.100000e-10</td>\n",
       "      <td>1.100000e+10</td>\n",
       "      <td>pargp</td>\n",
       "      <td>1.0</td>\n",
       "      <td>0.0</td>\n",
       "      <td>1</td>\n",
       "    </tr>\n",
       "  </tbody>\n",
       "</table>\n",
       "</div>"
      ],
      "text/plain": [
       "              parnme partrans parchglim  parval1       parlbnd       parubnd  \\\n",
       "cn2              cn2      log    factor      1.0  1.100000e-10  1.100000e+10   \n",
       "esco            esco      log    factor      1.0  1.100000e-10  1.100000e+10   \n",
       "hk01            hk01      log    factor      1.0  1.100000e-10  1.100000e+10   \n",
       "hk02            hk02      log    factor      1.0  1.100000e-10  1.100000e+10   \n",
       "sol_awc()  sol_awc()      log    factor      1.0  1.100000e-10  1.100000e+10   \n",
       "sy01            sy01      log    factor      1.0  1.100000e-10  1.100000e+10   \n",
       "sy02            sy02      log    factor      1.0  1.100000e-10  1.100000e+10   \n",
       "\n",
       "           pargp  scale  offset  dercom  \n",
       "cn2        pargp    1.0     0.0       1  \n",
       "esco       pargp    1.0     0.0       1  \n",
       "hk01       pargp    1.0     0.0       1  \n",
       "hk02       pargp    1.0     0.0       1  \n",
       "sol_awc()  pargp    1.0     0.0       1  \n",
       "sy01       pargp    1.0     0.0       1  \n",
       "sy02       pargp    1.0     0.0       1  "
      ]
     },
     "execution_count": 26,
     "metadata": {},
     "output_type": "execute_result"
    }
   ],
   "source": [
    "par = pst.parameter_data\n",
    "par"
   ]
  },
  {
   "cell_type": "markdown",
   "id": "ed279c0d",
   "metadata": {},
   "source": [
    "## 5.1 Assign parameter group name"
   ]
  },
  {
   "cell_type": "code",
   "execution_count": 27,
   "id": "352c1249",
   "metadata": {},
   "outputs": [
    {
     "name": "stdout",
     "output_type": "stream",
     "text": [
      "              parnme partrans parchglim  parval1       parlbnd       parubnd  \\\n",
      "cn2              cn2      log    factor      1.0  1.100000e-10  1.100000e+10   \n",
      "esco            esco      log    factor      1.0  1.100000e-10  1.100000e+10   \n",
      "hk01            hk01      log    factor      1.0  1.100000e-10  1.100000e+10   \n",
      "hk02            hk02      log    factor      1.0  1.100000e-10  1.100000e+10   \n",
      "sol_awc()  sol_awc()      log    factor      1.0  1.100000e-10  1.100000e+10   \n",
      "sy01            sy01      log    factor      1.0  1.100000e-10  1.100000e+10   \n",
      "sy02            sy02      log    factor      1.0  1.100000e-10  1.100000e+10   \n",
      "\n",
      "          pargp  scale  offset  dercom  \n",
      "cn2        swat    1.0     0.0       1  \n",
      "esco       swat    1.0     0.0       1  \n",
      "hk01         hk    1.0     0.0       1  \n",
      "hk02         hk    1.0     0.0       1  \n",
      "sol_awc()  swat    1.0     0.0       1  \n",
      "sy01         sy    1.0     0.0       1  \n",
      "sy02         sy    1.0     0.0       1  \n"
     ]
    }
   ],
   "source": [
    "for i in range(len(par)):\n",
    "    if (par.iloc[i, 0][:2]) == 'sy':\n",
    "        par.iloc[i, 6] = 'sy'\n",
    "    elif par.iloc[i, 0][:7] == 'rivbot_':\n",
    "        par.iloc[i, 6] = 'rivbot'\n",
    "    elif par.iloc[i, 0][:6] == 'rivcd_':\n",
    "        par.iloc[i, 6] = 'rivcd'\n",
    "    elif par.iloc[i, 0][:2] == 'hk':\n",
    "        par.iloc[i, 6] = 'hk'\n",
    "    else:\n",
    "        par.iloc[i, 6] = 'swat'\n",
    "print(par)"
   ]
  },
  {
   "cell_type": "markdown",
   "id": "19afbee2",
   "metadata": {},
   "source": [
    "## 5.2 Adjust initial parameter values and their ranges"
   ]
  },
  {
   "cell_type": "code",
   "execution_count": 28,
   "id": "61297566",
   "metadata": {},
   "outputs": [
    {
     "data": {
      "text/plain": [
       "3"
      ]
     },
     "execution_count": 28,
     "metadata": {},
     "output_type": "execute_result"
    }
   ],
   "source": [
    "count = 0\n",
    "for i in range(len(par)):\n",
    "    if (par.iloc[i, 6] == 'hk'):\n",
    "        par.iloc[i, 3] = 1  \n",
    "        par.iloc[i, 4] = 1.000000e-02\n",
    "        par.iloc[i, 5] = 1.000000e+02\n",
    "    elif (par.iloc[i, 6] == 'sy'):\n",
    "        par.iloc[i, 3] = 1.000000e-02       \n",
    "        par.iloc[i, 4] = 1.000000e-04\n",
    "        par.iloc[i, 5] = 0.6  \n",
    "    elif (par.iloc[i, 6] == 'rivbot'):\n",
    "        par.iloc[i, 3] = 3.001     \n",
    "        par.iloc[i, 4] = 0.001\n",
    "        par.iloc[i, 5] = 6\n",
    "        par.iloc[i, 8] = -3\n",
    "    elif (par.iloc[i, 6] == 'rivcd'):\n",
    "        par.iloc[i, 3] = 50.001       \n",
    "        par.iloc[i, 4] = 0.001\n",
    "        par.iloc[i, 5] = 100\n",
    "        par.iloc[i, 8] = -50\n",
    "    else:\n",
    "        count += 1\n",
    "count"
   ]
  },
  {
   "cell_type": "code",
   "execution_count": 29,
   "id": "0a328615",
   "metadata": {},
   "outputs": [],
   "source": [
    "# CN2\n",
    "par.loc['cn2', 'parval1'] = 1.001\n",
    "par.loc['cn2', 'parlbnd'] = 0.8\n",
    "par.loc['cn2', 'parubnd'] = 1.2\n",
    "par.loc['cn2', 'offset'] = -1\n",
    "\n",
    "# ESCO\n",
    "par.loc['esco', 'parval1'] = 1.001\n",
    "par.loc['esco', 'parlbnd'] = 0.5\n",
    "par.loc['esco', 'parubnd'] = 1.5\n",
    "par.loc['esco', 'offset'] = -1\n",
    "\n",
    "# sol_awc()\n",
    "par.loc['sol_awc()', 'parval1'] = 1.001\n",
    "par.loc['sol_awc()', 'parlbnd'] = 0.5\n",
    "par.loc['sol_awc()', 'parubnd'] = 1.5\n",
    "par.loc['sol_awc()', 'offset'] = -1\n"
   ]
  },
  {
   "cell_type": "markdown",
   "id": "6d487bbc",
   "metadata": {},
   "source": [
    "## 5.3 Assign parameter group name"
   ]
  },
  {
   "cell_type": "code",
   "execution_count": 30,
   "id": "22b93418",
   "metadata": {},
   "outputs": [
    {
     "data": {
      "text/html": [
       "<div>\n",
       "<style scoped>\n",
       "    .dataframe tbody tr th:only-of-type {\n",
       "        vertical-align: middle;\n",
       "    }\n",
       "\n",
       "    .dataframe tbody tr th {\n",
       "        vertical-align: top;\n",
       "    }\n",
       "\n",
       "    .dataframe thead th {\n",
       "        text-align: right;\n",
       "    }\n",
       "</style>\n",
       "<table border=\"1\" class=\"dataframe\">\n",
       "  <thead>\n",
       "    <tr style=\"text-align: right;\">\n",
       "      <th></th>\n",
       "      <th>obsnme</th>\n",
       "      <th>obsval</th>\n",
       "      <th>weight</th>\n",
       "      <th>obgnme</th>\n",
       "    </tr>\n",
       "  </thead>\n",
       "  <tbody>\n",
       "    <tr>\n",
       "      <th>g_5699_19851130</th>\n",
       "      <td>g_5699_19851130</td>\n",
       "      <td>-0.80200</td>\n",
       "      <td>1.0</td>\n",
       "      <td>obgnme</td>\n",
       "    </tr>\n",
       "    <tr>\n",
       "      <th>g_5699_19851201</th>\n",
       "      <td>g_5699_19851201</td>\n",
       "      <td>-0.82500</td>\n",
       "      <td>1.0</td>\n",
       "      <td>obgnme</td>\n",
       "    </tr>\n",
       "    <tr>\n",
       "      <th>g_5699_19851202</th>\n",
       "      <td>g_5699_19851202</td>\n",
       "      <td>-0.84400</td>\n",
       "      <td>1.0</td>\n",
       "      <td>obgnme</td>\n",
       "    </tr>\n",
       "    <tr>\n",
       "      <th>g_5699_19851203</th>\n",
       "      <td>g_5699_19851203</td>\n",
       "      <td>-0.85100</td>\n",
       "      <td>1.0</td>\n",
       "      <td>obgnme</td>\n",
       "    </tr>\n",
       "    <tr>\n",
       "      <th>g_5699_19851204</th>\n",
       "      <td>g_5699_19851204</td>\n",
       "      <td>-0.85700</td>\n",
       "      <td>1.0</td>\n",
       "      <td>obgnme</td>\n",
       "    </tr>\n",
       "    <tr>\n",
       "      <th>...</th>\n",
       "      <td>...</td>\n",
       "      <td>...</td>\n",
       "      <td>...</td>\n",
       "      <td>...</td>\n",
       "    </tr>\n",
       "    <tr>\n",
       "      <th>rch058_19850926</th>\n",
       "      <td>rch058_19850926</td>\n",
       "      <td>0.23810</td>\n",
       "      <td>1.0</td>\n",
       "      <td>obgnme</td>\n",
       "    </tr>\n",
       "    <tr>\n",
       "      <th>rch058_19850927</th>\n",
       "      <td>rch058_19850927</td>\n",
       "      <td>0.04602</td>\n",
       "      <td>1.0</td>\n",
       "      <td>obgnme</td>\n",
       "    </tr>\n",
       "    <tr>\n",
       "      <th>rch058_19850928</th>\n",
       "      <td>rch058_19850928</td>\n",
       "      <td>0.43360</td>\n",
       "      <td>1.0</td>\n",
       "      <td>obgnme</td>\n",
       "    </tr>\n",
       "    <tr>\n",
       "      <th>rch058_19850929</th>\n",
       "      <td>rch058_19850929</td>\n",
       "      <td>0.46530</td>\n",
       "      <td>1.0</td>\n",
       "      <td>obgnme</td>\n",
       "    </tr>\n",
       "    <tr>\n",
       "      <th>rch058_19850930</th>\n",
       "      <td>rch058_19850930</td>\n",
       "      <td>0.34350</td>\n",
       "      <td>1.0</td>\n",
       "      <td>obgnme</td>\n",
       "    </tr>\n",
       "  </tbody>\n",
       "</table>\n",
       "<p>305 rows × 4 columns</p>\n",
       "</div>"
      ],
      "text/plain": [
       "                          obsnme   obsval  weight  obgnme\n",
       "g_5699_19851130  g_5699_19851130 -0.80200     1.0  obgnme\n",
       "g_5699_19851201  g_5699_19851201 -0.82500     1.0  obgnme\n",
       "g_5699_19851202  g_5699_19851202 -0.84400     1.0  obgnme\n",
       "g_5699_19851203  g_5699_19851203 -0.85100     1.0  obgnme\n",
       "g_5699_19851204  g_5699_19851204 -0.85700     1.0  obgnme\n",
       "...                          ...      ...     ...     ...\n",
       "rch058_19850926  rch058_19850926  0.23810     1.0  obgnme\n",
       "rch058_19850927  rch058_19850927  0.04602     1.0  obgnme\n",
       "rch058_19850928  rch058_19850928  0.43360     1.0  obgnme\n",
       "rch058_19850929  rch058_19850929  0.46530     1.0  obgnme\n",
       "rch058_19850930  rch058_19850930  0.34350     1.0  obgnme\n",
       "\n",
       "[305 rows x 4 columns]"
      ]
     },
     "execution_count": 30,
     "metadata": {},
     "output_type": "execute_result"
    }
   ],
   "source": [
    "# set observation group\n",
    "obd = pst.observation_data\n",
    "obd"
   ]
  },
  {
   "cell_type": "code",
   "execution_count": 31,
   "id": "78f4acaf",
   "metadata": {},
   "outputs": [
    {
     "data": {
      "text/html": [
       "<div>\n",
       "<style scoped>\n",
       "    .dataframe tbody tr th:only-of-type {\n",
       "        vertical-align: middle;\n",
       "    }\n",
       "\n",
       "    .dataframe tbody tr th {\n",
       "        vertical-align: top;\n",
       "    }\n",
       "\n",
       "    .dataframe thead th {\n",
       "        text-align: right;\n",
       "    }\n",
       "</style>\n",
       "<table border=\"1\" class=\"dataframe\">\n",
       "  <thead>\n",
       "    <tr style=\"text-align: right;\">\n",
       "      <th></th>\n",
       "      <th>obsnme</th>\n",
       "      <th>obsval</th>\n",
       "      <th>weight</th>\n",
       "      <th>obgnme</th>\n",
       "    </tr>\n",
       "  </thead>\n",
       "  <tbody>\n",
       "    <tr>\n",
       "      <th>g_5699_19851130</th>\n",
       "      <td>g_5699_19851130</td>\n",
       "      <td>-0.80200</td>\n",
       "      <td>1.0</td>\n",
       "      <td>g_5699</td>\n",
       "    </tr>\n",
       "    <tr>\n",
       "      <th>g_5699_19851201</th>\n",
       "      <td>g_5699_19851201</td>\n",
       "      <td>-0.82500</td>\n",
       "      <td>1.0</td>\n",
       "      <td>g_5699</td>\n",
       "    </tr>\n",
       "    <tr>\n",
       "      <th>g_5699_19851202</th>\n",
       "      <td>g_5699_19851202</td>\n",
       "      <td>-0.84400</td>\n",
       "      <td>1.0</td>\n",
       "      <td>g_5699</td>\n",
       "    </tr>\n",
       "    <tr>\n",
       "      <th>g_5699_19851203</th>\n",
       "      <td>g_5699_19851203</td>\n",
       "      <td>-0.85100</td>\n",
       "      <td>1.0</td>\n",
       "      <td>g_5699</td>\n",
       "    </tr>\n",
       "    <tr>\n",
       "      <th>g_5699_19851204</th>\n",
       "      <td>g_5699_19851204</td>\n",
       "      <td>-0.85700</td>\n",
       "      <td>1.0</td>\n",
       "      <td>g_5699</td>\n",
       "    </tr>\n",
       "    <tr>\n",
       "      <th>...</th>\n",
       "      <td>...</td>\n",
       "      <td>...</td>\n",
       "      <td>...</td>\n",
       "      <td>...</td>\n",
       "    </tr>\n",
       "    <tr>\n",
       "      <th>rch058_19850926</th>\n",
       "      <td>rch058_19850926</td>\n",
       "      <td>0.23810</td>\n",
       "      <td>1.0</td>\n",
       "      <td>rch058</td>\n",
       "    </tr>\n",
       "    <tr>\n",
       "      <th>rch058_19850927</th>\n",
       "      <td>rch058_19850927</td>\n",
       "      <td>0.04602</td>\n",
       "      <td>1.0</td>\n",
       "      <td>rch058</td>\n",
       "    </tr>\n",
       "    <tr>\n",
       "      <th>rch058_19850928</th>\n",
       "      <td>rch058_19850928</td>\n",
       "      <td>0.43360</td>\n",
       "      <td>1.0</td>\n",
       "      <td>rch058</td>\n",
       "    </tr>\n",
       "    <tr>\n",
       "      <th>rch058_19850929</th>\n",
       "      <td>rch058_19850929</td>\n",
       "      <td>0.46530</td>\n",
       "      <td>1.0</td>\n",
       "      <td>rch058</td>\n",
       "    </tr>\n",
       "    <tr>\n",
       "      <th>rch058_19850930</th>\n",
       "      <td>rch058_19850930</td>\n",
       "      <td>0.34350</td>\n",
       "      <td>1.0</td>\n",
       "      <td>rch058</td>\n",
       "    </tr>\n",
       "  </tbody>\n",
       "</table>\n",
       "<p>305 rows × 4 columns</p>\n",
       "</div>"
      ],
      "text/plain": [
       "                          obsnme   obsval  weight  obgnme\n",
       "g_5699_19851130  g_5699_19851130 -0.80200     1.0  g_5699\n",
       "g_5699_19851201  g_5699_19851201 -0.82500     1.0  g_5699\n",
       "g_5699_19851202  g_5699_19851202 -0.84400     1.0  g_5699\n",
       "g_5699_19851203  g_5699_19851203 -0.85100     1.0  g_5699\n",
       "g_5699_19851204  g_5699_19851204 -0.85700     1.0  g_5699\n",
       "...                          ...      ...     ...     ...\n",
       "rch058_19850926  rch058_19850926  0.23810     1.0  rch058\n",
       "rch058_19850927  rch058_19850927  0.04602     1.0  rch058\n",
       "rch058_19850928  rch058_19850928  0.43360     1.0  rch058\n",
       "rch058_19850929  rch058_19850929  0.46530     1.0  rch058\n",
       "rch058_19850930  rch058_19850930  0.34350     1.0  rch058\n",
       "\n",
       "[305 rows x 4 columns]"
      ]
     },
     "execution_count": 31,
     "metadata": {},
     "output_type": "execute_result"
    }
   ],
   "source": [
    "# Change obd group name\n",
    "for i in range(len(obd)):\n",
    "    obd.iloc[i, 3] = obd.iloc[i, 0][:-9]\n",
    "obd"
   ]
  },
  {
   "cell_type": "markdown",
   "id": "9c68a859",
   "metadata": {},
   "source": [
    "## 5.4 Provide actual observed values to control file"
   ]
  },
  {
   "cell_type": "code",
   "execution_count": 32,
   "id": "6927bc39-c78c-4027-8b05-b4ee17658093",
   "metadata": {},
   "outputs": [
    {
     "data": {
      "text/plain": [
       "'D:\\\\test\\\\middle_bosque_1000\\\\SWAT-MODFLOW'"
      ]
     },
     "execution_count": 32,
     "metadata": {},
     "output_type": "execute_result"
    }
   ],
   "source": [
    "os.getcwd()"
   ]
  },
  {
   "cell_type": "code",
   "execution_count": 33,
   "id": "ac9f8086",
   "metadata": {},
   "outputs": [
    {
     "data": {
      "text/html": [
       "<div>\n",
       "<style scoped>\n",
       "    .dataframe tbody tr th:only-of-type {\n",
       "        vertical-align: middle;\n",
       "    }\n",
       "\n",
       "    .dataframe tbody tr th {\n",
       "        vertical-align: top;\n",
       "    }\n",
       "\n",
       "    .dataframe thead th {\n",
       "        text-align: right;\n",
       "    }\n",
       "</style>\n",
       "<table border=\"1\" class=\"dataframe\">\n",
       "  <thead>\n",
       "    <tr style=\"text-align: right;\">\n",
       "      <th></th>\n",
       "      <th>rch058</th>\n",
       "    </tr>\n",
       "    <tr>\n",
       "      <th>date</th>\n",
       "      <th></th>\n",
       "    </tr>\n",
       "  </thead>\n",
       "  <tbody>\n",
       "    <tr>\n",
       "      <th>1985-01-01</th>\n",
       "      <td>7.957021</td>\n",
       "    </tr>\n",
       "    <tr>\n",
       "      <th>1985-01-02</th>\n",
       "      <td>5.804944</td>\n",
       "    </tr>\n",
       "    <tr>\n",
       "      <th>1985-01-03</th>\n",
       "      <td>5.380192</td>\n",
       "    </tr>\n",
       "    <tr>\n",
       "      <th>1985-01-04</th>\n",
       "      <td>5.238608</td>\n",
       "    </tr>\n",
       "    <tr>\n",
       "      <th>1985-01-05</th>\n",
       "      <td>4.530688</td>\n",
       "    </tr>\n",
       "    <tr>\n",
       "      <th>...</th>\n",
       "      <td>...</td>\n",
       "    </tr>\n",
       "    <tr>\n",
       "      <th>1985-09-26</th>\n",
       "      <td>0.018689</td>\n",
       "    </tr>\n",
       "    <tr>\n",
       "      <th>1985-09-27</th>\n",
       "      <td>0.018689</td>\n",
       "    </tr>\n",
       "    <tr>\n",
       "      <th>1985-09-28</th>\n",
       "      <td>0.025202</td>\n",
       "    </tr>\n",
       "    <tr>\n",
       "      <th>1985-09-29</th>\n",
       "      <td>4.898806</td>\n",
       "    </tr>\n",
       "    <tr>\n",
       "      <th>1985-09-30</th>\n",
       "      <td>0.220871</td>\n",
       "    </tr>\n",
       "  </tbody>\n",
       "</table>\n",
       "<p>273 rows × 1 columns</p>\n",
       "</div>"
      ],
      "text/plain": [
       "              rch058\n",
       "date                \n",
       "1985-01-01  7.957021\n",
       "1985-01-02  5.804944\n",
       "1985-01-03  5.380192\n",
       "1985-01-04  5.238608\n",
       "1985-01-05  4.530688\n",
       "...              ...\n",
       "1985-09-26  0.018689\n",
       "1985-09-27  0.018689\n",
       "1985-09-28  0.025202\n",
       "1985-09-29  4.898806\n",
       "1985-09-30  0.220871\n",
       "\n",
       "[273 rows x 1 columns]"
      ]
     },
     "execution_count": 33,
     "metadata": {},
     "output_type": "execute_result"
    }
   ],
   "source": [
    "# Streamflow\n",
    "stf_obd = pd.read_csv('swat_rch_day.obd',\n",
    "                       sep=r'\\t',\n",
    "                       index_col = 0,\n",
    "                       parse_dates = True,\n",
    "                       na_values=[-999, '']\n",
    "                     )\n",
    "stf_obd = stf_obd[cal_start: cal_end]\n",
    "stf_obd"
   ]
  },
  {
   "cell_type": "code",
   "execution_count": 34,
   "id": "4f06f8fd",
   "metadata": {
    "scrolled": true
   },
   "outputs": [
    {
     "data": {
      "text/html": [
       "<div>\n",
       "<style scoped>\n",
       "    .dataframe tbody tr th:only-of-type {\n",
       "        vertical-align: middle;\n",
       "    }\n",
       "\n",
       "    .dataframe tbody tr th {\n",
       "        vertical-align: top;\n",
       "    }\n",
       "\n",
       "    .dataframe thead th {\n",
       "        text-align: right;\n",
       "    }\n",
       "</style>\n",
       "<table border=\"1\" class=\"dataframe\">\n",
       "  <thead>\n",
       "    <tr style=\"text-align: right;\">\n",
       "      <th></th>\n",
       "      <th>g_5699</th>\n",
       "      <th>g_5832</th>\n",
       "    </tr>\n",
       "    <tr>\n",
       "      <th>date</th>\n",
       "      <th></th>\n",
       "      <th></th>\n",
       "    </tr>\n",
       "  </thead>\n",
       "  <tbody>\n",
       "    <tr>\n",
       "      <th>1985-11-27</th>\n",
       "      <td>NaN</td>\n",
       "      <td>-2.758</td>\n",
       "    </tr>\n",
       "    <tr>\n",
       "      <th>1985-11-28</th>\n",
       "      <td>NaN</td>\n",
       "      <td>-2.835</td>\n",
       "    </tr>\n",
       "    <tr>\n",
       "      <th>1985-11-29</th>\n",
       "      <td>NaN</td>\n",
       "      <td>-2.850</td>\n",
       "    </tr>\n",
       "    <tr>\n",
       "      <th>1985-11-30</th>\n",
       "      <td>-0.777</td>\n",
       "      <td>-2.880</td>\n",
       "    </tr>\n",
       "    <tr>\n",
       "      <th>1985-12-01</th>\n",
       "      <td>-0.823</td>\n",
       "      <td>-2.850</td>\n",
       "    </tr>\n",
       "    <tr>\n",
       "      <th>1985-12-02</th>\n",
       "      <td>-0.838</td>\n",
       "      <td>-2.835</td>\n",
       "    </tr>\n",
       "    <tr>\n",
       "      <th>1985-12-03</th>\n",
       "      <td>-0.838</td>\n",
       "      <td>-2.819</td>\n",
       "    </tr>\n",
       "    <tr>\n",
       "      <th>1985-12-04</th>\n",
       "      <td>-0.838</td>\n",
       "      <td>-2.813</td>\n",
       "    </tr>\n",
       "    <tr>\n",
       "      <th>1985-12-05</th>\n",
       "      <td>-0.838</td>\n",
       "      <td>-2.804</td>\n",
       "    </tr>\n",
       "    <tr>\n",
       "      <th>1985-12-06</th>\n",
       "      <td>-0.838</td>\n",
       "      <td>-2.795</td>\n",
       "    </tr>\n",
       "    <tr>\n",
       "      <th>1985-12-07</th>\n",
       "      <td>-0.838</td>\n",
       "      <td>-2.789</td>\n",
       "    </tr>\n",
       "    <tr>\n",
       "      <th>1985-12-08</th>\n",
       "      <td>-0.838</td>\n",
       "      <td>-2.783</td>\n",
       "    </tr>\n",
       "    <tr>\n",
       "      <th>1985-12-09</th>\n",
       "      <td>-0.838</td>\n",
       "      <td>-2.774</td>\n",
       "    </tr>\n",
       "    <tr>\n",
       "      <th>1985-12-10</th>\n",
       "      <td>-0.777</td>\n",
       "      <td>-2.774</td>\n",
       "    </tr>\n",
       "    <tr>\n",
       "      <th>1985-12-11</th>\n",
       "      <td>-0.427</td>\n",
       "      <td>-0.396</td>\n",
       "    </tr>\n",
       "    <tr>\n",
       "      <th>1985-12-12</th>\n",
       "      <td>-0.549</td>\n",
       "      <td>-0.610</td>\n",
       "    </tr>\n",
       "    <tr>\n",
       "      <th>1985-12-13</th>\n",
       "      <td>-0.625</td>\n",
       "      <td>-0.762</td>\n",
       "    </tr>\n",
       "    <tr>\n",
       "      <th>1985-12-14</th>\n",
       "      <td>-0.671</td>\n",
       "      <td>-0.884</td>\n",
       "    </tr>\n",
       "    <tr>\n",
       "      <th>1985-12-15</th>\n",
       "      <td>-0.686</td>\n",
       "      <td>-0.945</td>\n",
       "    </tr>\n",
       "    <tr>\n",
       "      <th>1985-12-16</th>\n",
       "      <td>-0.701</td>\n",
       "      <td>-1.036</td>\n",
       "    </tr>\n",
       "    <tr>\n",
       "      <th>1985-12-17</th>\n",
       "      <td>-0.732</td>\n",
       "      <td>-1.082</td>\n",
       "    </tr>\n",
       "    <tr>\n",
       "      <th>1985-12-18</th>\n",
       "      <td>-0.747</td>\n",
       "      <td>-1.143</td>\n",
       "    </tr>\n",
       "    <tr>\n",
       "      <th>1985-12-19</th>\n",
       "      <td>-0.762</td>\n",
       "      <td>-1.189</td>\n",
       "    </tr>\n",
       "    <tr>\n",
       "      <th>1985-12-20</th>\n",
       "      <td>-0.762</td>\n",
       "      <td>-1.234</td>\n",
       "    </tr>\n",
       "    <tr>\n",
       "      <th>1985-12-21</th>\n",
       "      <td>-0.777</td>\n",
       "      <td>-1.295</td>\n",
       "    </tr>\n",
       "    <tr>\n",
       "      <th>1985-12-22</th>\n",
       "      <td>-0.777</td>\n",
       "      <td>-1.372</td>\n",
       "    </tr>\n",
       "    <tr>\n",
       "      <th>1985-12-23</th>\n",
       "      <td>-0.777</td>\n",
       "      <td>-1.402</td>\n",
       "    </tr>\n",
       "    <tr>\n",
       "      <th>1985-12-24</th>\n",
       "      <td>-0.792</td>\n",
       "      <td>-1.524</td>\n",
       "    </tr>\n",
       "    <tr>\n",
       "      <th>1985-12-25</th>\n",
       "      <td>-0.792</td>\n",
       "      <td>-1.615</td>\n",
       "    </tr>\n",
       "    <tr>\n",
       "      <th>1985-12-26</th>\n",
       "      <td>-0.792</td>\n",
       "      <td>-1.676</td>\n",
       "    </tr>\n",
       "    <tr>\n",
       "      <th>1985-12-27</th>\n",
       "      <td>-0.792</td>\n",
       "      <td>-1.768</td>\n",
       "    </tr>\n",
       "    <tr>\n",
       "      <th>1985-12-28</th>\n",
       "      <td>-0.823</td>\n",
       "      <td>-1.844</td>\n",
       "    </tr>\n",
       "    <tr>\n",
       "      <th>1985-12-29</th>\n",
       "      <td>-0.838</td>\n",
       "      <td>-1.905</td>\n",
       "    </tr>\n",
       "    <tr>\n",
       "      <th>1985-12-30</th>\n",
       "      <td>-0.847</td>\n",
       "      <td>-1.981</td>\n",
       "    </tr>\n",
       "    <tr>\n",
       "      <th>1985-12-31</th>\n",
       "      <td>-0.847</td>\n",
       "      <td>-2.012</td>\n",
       "    </tr>\n",
       "  </tbody>\n",
       "</table>\n",
       "</div>"
      ],
      "text/plain": [
       "            g_5699  g_5832\n",
       "date                      \n",
       "1985-11-27     NaN  -2.758\n",
       "1985-11-28     NaN  -2.835\n",
       "1985-11-29     NaN  -2.850\n",
       "1985-11-30  -0.777  -2.880\n",
       "1985-12-01  -0.823  -2.850\n",
       "1985-12-02  -0.838  -2.835\n",
       "1985-12-03  -0.838  -2.819\n",
       "1985-12-04  -0.838  -2.813\n",
       "1985-12-05  -0.838  -2.804\n",
       "1985-12-06  -0.838  -2.795\n",
       "1985-12-07  -0.838  -2.789\n",
       "1985-12-08  -0.838  -2.783\n",
       "1985-12-09  -0.838  -2.774\n",
       "1985-12-10  -0.777  -2.774\n",
       "1985-12-11  -0.427  -0.396\n",
       "1985-12-12  -0.549  -0.610\n",
       "1985-12-13  -0.625  -0.762\n",
       "1985-12-14  -0.671  -0.884\n",
       "1985-12-15  -0.686  -0.945\n",
       "1985-12-16  -0.701  -1.036\n",
       "1985-12-17  -0.732  -1.082\n",
       "1985-12-18  -0.747  -1.143\n",
       "1985-12-19  -0.762  -1.189\n",
       "1985-12-20  -0.762  -1.234\n",
       "1985-12-21  -0.777  -1.295\n",
       "1985-12-22  -0.777  -1.372\n",
       "1985-12-23  -0.777  -1.402\n",
       "1985-12-24  -0.792  -1.524\n",
       "1985-12-25  -0.792  -1.615\n",
       "1985-12-26  -0.792  -1.676\n",
       "1985-12-27  -0.792  -1.768\n",
       "1985-12-28  -0.823  -1.844\n",
       "1985-12-29  -0.838  -1.905\n",
       "1985-12-30  -0.847  -1.981\n",
       "1985-12-31  -0.847  -2.012"
      ]
     },
     "execution_count": 34,
     "metadata": {},
     "output_type": "execute_result"
    }
   ],
   "source": [
    "# watertable\n",
    "dtw_obd = pd.read_csv('dtw_day.obd',\n",
    "                       sep=r'\\t',\n",
    "                       index_col = 0,\n",
    "                       parse_dates = True,\n",
    "                       na_values=[-999, '']\n",
    "                     )\n",
    "dtw_obd = dtw_obd[cal_start: cal_end]\n",
    "dtw_obd"
   ]
  },
  {
   "cell_type": "code",
   "execution_count": 35,
   "id": "519bf837",
   "metadata": {},
   "outputs": [
    {
     "data": {
      "text/plain": [
       "['g_5699', 'rch058']"
      ]
     },
     "execution_count": 35,
     "metadata": {},
     "output_type": "execute_result"
    }
   ],
   "source": [
    "# Get sub list based on obd order\n",
    "obd_order = []\n",
    "for i in obd.obgnme.tolist():\n",
    "    if i not in obd_order:\n",
    "        obd_order.append(i)\n",
    "obd_order"
   ]
  },
  {
   "cell_type": "code",
   "execution_count": 36,
   "id": "883af98d",
   "metadata": {},
   "outputs": [
    {
     "name": "stdout",
     "output_type": "stream",
     "text": [
      "g_5699\n",
      "rch058\n"
     ]
    },
    {
     "data": {
      "text/plain": [
       "305"
      ]
     },
     "execution_count": 36,
     "metadata": {},
     "output_type": "execute_result"
    }
   ],
   "source": [
    "# get total list from each sub obd, delete na vals\n",
    "tot_obd = []\n",
    "for i in obd_order[:1]:\n",
    "    tot_obd += dtw_obd[i].dropna().tolist()\n",
    "    print(i)\n",
    "for i in obd_order[1:]:\n",
    "    tot_obd += stf_obd[i].dropna().tolist()\n",
    "    print(i)\n",
    "len(tot_obd)"
   ]
  },
  {
   "cell_type": "code",
   "execution_count": 37,
   "id": "41d4fde8",
   "metadata": {},
   "outputs": [
    {
     "data": {
      "text/html": [
       "<div>\n",
       "<style scoped>\n",
       "    .dataframe tbody tr th:only-of-type {\n",
       "        vertical-align: middle;\n",
       "    }\n",
       "\n",
       "    .dataframe tbody tr th {\n",
       "        vertical-align: top;\n",
       "    }\n",
       "\n",
       "    .dataframe thead th {\n",
       "        text-align: right;\n",
       "    }\n",
       "</style>\n",
       "<table border=\"1\" class=\"dataframe\">\n",
       "  <thead>\n",
       "    <tr style=\"text-align: right;\">\n",
       "      <th></th>\n",
       "      <th>obsnme</th>\n",
       "      <th>obsval</th>\n",
       "      <th>weight</th>\n",
       "      <th>obgnme</th>\n",
       "    </tr>\n",
       "  </thead>\n",
       "  <tbody>\n",
       "    <tr>\n",
       "      <th>g_5699_19851130</th>\n",
       "      <td>g_5699_19851130</td>\n",
       "      <td>-0.777000</td>\n",
       "      <td>1.0</td>\n",
       "      <td>g_5699</td>\n",
       "    </tr>\n",
       "    <tr>\n",
       "      <th>g_5699_19851201</th>\n",
       "      <td>g_5699_19851201</td>\n",
       "      <td>-0.823000</td>\n",
       "      <td>1.0</td>\n",
       "      <td>g_5699</td>\n",
       "    </tr>\n",
       "    <tr>\n",
       "      <th>g_5699_19851202</th>\n",
       "      <td>g_5699_19851202</td>\n",
       "      <td>-0.838000</td>\n",
       "      <td>1.0</td>\n",
       "      <td>g_5699</td>\n",
       "    </tr>\n",
       "    <tr>\n",
       "      <th>g_5699_19851203</th>\n",
       "      <td>g_5699_19851203</td>\n",
       "      <td>-0.838000</td>\n",
       "      <td>1.0</td>\n",
       "      <td>g_5699</td>\n",
       "    </tr>\n",
       "    <tr>\n",
       "      <th>g_5699_19851204</th>\n",
       "      <td>g_5699_19851204</td>\n",
       "      <td>-0.838000</td>\n",
       "      <td>1.0</td>\n",
       "      <td>g_5699</td>\n",
       "    </tr>\n",
       "    <tr>\n",
       "      <th>...</th>\n",
       "      <td>...</td>\n",
       "      <td>...</td>\n",
       "      <td>...</td>\n",
       "      <td>...</td>\n",
       "    </tr>\n",
       "    <tr>\n",
       "      <th>rch058_19850926</th>\n",
       "      <td>rch058_19850926</td>\n",
       "      <td>0.018689</td>\n",
       "      <td>1.0</td>\n",
       "      <td>rch058</td>\n",
       "    </tr>\n",
       "    <tr>\n",
       "      <th>rch058_19850927</th>\n",
       "      <td>rch058_19850927</td>\n",
       "      <td>0.018689</td>\n",
       "      <td>1.0</td>\n",
       "      <td>rch058</td>\n",
       "    </tr>\n",
       "    <tr>\n",
       "      <th>rch058_19850928</th>\n",
       "      <td>rch058_19850928</td>\n",
       "      <td>0.025202</td>\n",
       "      <td>1.0</td>\n",
       "      <td>rch058</td>\n",
       "    </tr>\n",
       "    <tr>\n",
       "      <th>rch058_19850929</th>\n",
       "      <td>rch058_19850929</td>\n",
       "      <td>4.898806</td>\n",
       "      <td>1.0</td>\n",
       "      <td>rch058</td>\n",
       "    </tr>\n",
       "    <tr>\n",
       "      <th>rch058_19850930</th>\n",
       "      <td>rch058_19850930</td>\n",
       "      <td>0.220871</td>\n",
       "      <td>1.0</td>\n",
       "      <td>rch058</td>\n",
       "    </tr>\n",
       "  </tbody>\n",
       "</table>\n",
       "<p>305 rows × 4 columns</p>\n",
       "</div>"
      ],
      "text/plain": [
       "                          obsnme    obsval  weight  obgnme\n",
       "g_5699_19851130  g_5699_19851130 -0.777000     1.0  g_5699\n",
       "g_5699_19851201  g_5699_19851201 -0.823000     1.0  g_5699\n",
       "g_5699_19851202  g_5699_19851202 -0.838000     1.0  g_5699\n",
       "g_5699_19851203  g_5699_19851203 -0.838000     1.0  g_5699\n",
       "g_5699_19851204  g_5699_19851204 -0.838000     1.0  g_5699\n",
       "...                          ...       ...     ...     ...\n",
       "rch058_19850926  rch058_19850926  0.018689     1.0  rch058\n",
       "rch058_19850927  rch058_19850927  0.018689     1.0  rch058\n",
       "rch058_19850928  rch058_19850928  0.025202     1.0  rch058\n",
       "rch058_19850929  rch058_19850929  4.898806     1.0  rch058\n",
       "rch058_19850930  rch058_19850930  0.220871     1.0  rch058\n",
       "\n",
       "[305 rows x 4 columns]"
      ]
     },
     "execution_count": 37,
     "metadata": {},
     "output_type": "execute_result"
    }
   ],
   "source": [
    "obd.loc[:, 'obsval'] = tot_obd\n",
    "obd"
   ]
  },
  {
   "cell_type": "markdown",
   "id": "617e031f",
   "metadata": {},
   "source": [
    "# 6. Create new control file with settings"
   ]
  },
  {
   "cell_type": "markdown",
   "id": "a1da8190-0fd6-4556-b799-50f5b2f06193",
   "metadata": {},
   "source": [
    "We can inspect all control data values using the `pst.control_data.formatted_values` attribute. Values are assigned defaults if not specified. Nice.:"
   ]
  },
  {
   "cell_type": "code",
   "execution_count": 38,
   "id": "a41cc3a0-c66c-49df-954c-8a9696322347",
   "metadata": {},
   "outputs": [
    {
     "data": {
      "text/plain": [
       "name\n",
       "rstfle                        restart\n",
       "pestmode                   estimation\n",
       "npar                                0\n",
       "nobs                                0\n",
       "npargp                              0\n",
       "nprior                              0\n",
       "nobsgp                              0\n",
       "maxcompdim                          0\n",
       "ntplfle                             0\n",
       "ninsfle                             0\n",
       "precis                         single\n",
       "dpoint                          point\n",
       "numcom                              1\n",
       "jacfile                             0\n",
       "messfile                            0\n",
       "obsreref                   noobsreref\n",
       "rlambda1                 2.000000E+01\n",
       "rlamfac                 -3.000000E+00\n",
       "phiratsuf                3.000000E-01\n",
       "phiredlam                1.000000E-02\n",
       "numlam                             -7\n",
       "jacupdate                         999\n",
       "lamforgive                 lamforgive\n",
       "derforgive               noderforgive\n",
       "relparmax                1.000000E+01\n",
       "facparmax                1.000000E+01\n",
       "facorig                  1.000000E-03\n",
       "iboundstick                         0\n",
       "upvecbend                           0\n",
       "phiredswh                1.000000E-01\n",
       "noptswitch                          1\n",
       "splitswh                 1.100000E+00\n",
       "doaui                           noaui\n",
       "dosenreuse                 nosenreuse\n",
       "boundscale               noboundscale\n",
       "noptmax                            30\n",
       "phiredstp                1.000000E-02\n",
       "nphistp                             3\n",
       "nphinored                           3\n",
       "relparstp                1.000000E-02\n",
       "nrelpar                             3\n",
       "phistopthresh            0.000000E+00\n",
       "lastrun                             1\n",
       "phiabandon              -1.000000E+00\n",
       "icov                                0\n",
       "icor                                0\n",
       "ieig                                0\n",
       "ires                                0\n",
       "jcosave                       jcosave\n",
       "verboserec                 verboserec\n",
       "jcosaveitn                 jcosaveitn\n",
       "reisaveitn                 reisaveitn\n",
       "parsaveitn                 parsaveitn\n",
       "parsaverun               noparsaverun\n",
       "dtype: object"
      ]
     },
     "execution_count": 38,
     "metadata": {},
     "output_type": "execute_result"
    }
   ],
   "source": [
    "pst.control_data.formatted_values"
   ]
  },
  {
   "cell_type": "code",
   "execution_count": 39,
   "id": "e91330b7",
   "metadata": {},
   "outputs": [],
   "source": [
    "pst.control_data.noptmax = 0 # replace 0 with \"zero\" and see what happens\n",
    "pst.model_command = 'python forward_run.py'"
   ]
  },
  {
   "cell_type": "markdown",
   "id": "ea292069-80e8-453b-9459-c2556d513358",
   "metadata": {},
   "source": [
    "### add new PEST++ variables like so:"
   ]
  },
  {
   "cell_type": "code",
   "execution_count": 40,
   "id": "1fd0fb95-3fb9-4fcc-8f34-283414f91446",
   "metadata": {},
   "outputs": [
    {
     "data": {
      "text/plain": [
       "{'ies_num_reals': 50}"
      ]
     },
     "execution_count": 40,
     "metadata": {},
     "output_type": "execute_result"
    }
   ],
   "source": [
    "# A few examples of adding PEST++ options of different types:\n",
    "# pestpp-ies; the number of realizations to draw in order to form parameter and observation ensembles.\n",
    "pst.pestpp_options['ies_num_reals'] = 50\n",
    "\n",
    "# specifies a list of values for the Marquardt lambda used in calculation of parameter upgrades. \n",
    "# pst.pestpp_options[\"lambdas\"] = [0.1, 1, 10, 100, 1000]\n",
    "# pst.pestpp_options[\"ies_bad_phi_sigma\"] = 2.0\n",
    "\n",
    "# pestpp-da; True/False, specify whether to use the simulated states at the end of each cycle as the initial states for the next cycle.   \n",
    "# pst.pestpp_options['da_use_simulated_states'] = True\n",
    "\n",
    "# check the dictionary again\n",
    "pst.pestpp_options"
   ]
  },
  {
   "cell_type": "code",
   "execution_count": 41,
   "id": "fcc3a4cd",
   "metadata": {},
   "outputs": [
    {
     "name": "stdout",
     "output_type": "stream",
     "text": [
      "noptmax:0, npar_adj:7, nnz_obs:305\n"
     ]
    }
   ],
   "source": [
    "pst.write('mb_zon.pst', version=2)"
   ]
  },
  {
   "cell_type": "code",
   "execution_count": null,
   "id": "44db71da",
   "metadata": {},
   "outputs": [],
   "source": []
  },
  {
   "cell_type": "markdown",
   "id": "d7994e0f-c25e-41ec-89a6-ce3e64f3f719",
   "metadata": {},
   "source": [
    "You can also read and load the existing pest control file."
   ]
  },
  {
   "cell_type": "code",
   "execution_count": 56,
   "id": "3ea71e6d-76b1-4279-805f-0f2adfdeeddc",
   "metadata": {},
   "outputs": [],
   "source": [
    "pst_read = pyemu.Pst(os.path.join(swatmf_model,\"mb_pest_v2.pst\"))"
   ]
  },
  {
   "cell_type": "code",
   "execution_count": 57,
   "id": "b20d8ef8-5bc0-4273-a3d9-1bb05635752b",
   "metadata": {},
   "outputs": [
    {
     "data": {
      "text/html": [
       "<div>\n",
       "<style scoped>\n",
       "    .dataframe tbody tr th:only-of-type {\n",
       "        vertical-align: middle;\n",
       "    }\n",
       "\n",
       "    .dataframe tbody tr th {\n",
       "        vertical-align: top;\n",
       "    }\n",
       "\n",
       "    .dataframe thead th {\n",
       "        text-align: right;\n",
       "    }\n",
       "</style>\n",
       "<table border=\"1\" class=\"dataframe\">\n",
       "  <thead>\n",
       "    <tr style=\"text-align: right;\">\n",
       "      <th></th>\n",
       "      <th>parnme</th>\n",
       "      <th>partrans</th>\n",
       "      <th>parchglim</th>\n",
       "      <th>parval1</th>\n",
       "      <th>parlbnd</th>\n",
       "      <th>parubnd</th>\n",
       "      <th>pargp</th>\n",
       "      <th>scale</th>\n",
       "      <th>offset</th>\n",
       "      <th>dercom</th>\n",
       "    </tr>\n",
       "    <tr>\n",
       "      <th>parnme</th>\n",
       "      <th></th>\n",
       "      <th></th>\n",
       "      <th></th>\n",
       "      <th></th>\n",
       "      <th></th>\n",
       "      <th></th>\n",
       "      <th></th>\n",
       "      <th></th>\n",
       "      <th></th>\n",
       "      <th></th>\n",
       "    </tr>\n",
       "  </thead>\n",
       "  <tbody>\n",
       "    <tr>\n",
       "      <th>cn2</th>\n",
       "      <td>cn2</td>\n",
       "      <td>log</td>\n",
       "      <td>factor</td>\n",
       "      <td>1.001</td>\n",
       "      <td>0.8000</td>\n",
       "      <td>1.2</td>\n",
       "      <td>swat</td>\n",
       "      <td>1.0</td>\n",
       "      <td>-1.0</td>\n",
       "      <td>1</td>\n",
       "    </tr>\n",
       "    <tr>\n",
       "      <th>esco</th>\n",
       "      <td>esco</td>\n",
       "      <td>log</td>\n",
       "      <td>factor</td>\n",
       "      <td>1.001</td>\n",
       "      <td>0.5000</td>\n",
       "      <td>1.5</td>\n",
       "      <td>swat</td>\n",
       "      <td>1.0</td>\n",
       "      <td>-1.0</td>\n",
       "      <td>1</td>\n",
       "    </tr>\n",
       "    <tr>\n",
       "      <th>hk01</th>\n",
       "      <td>hk01</td>\n",
       "      <td>log</td>\n",
       "      <td>factor</td>\n",
       "      <td>1.000</td>\n",
       "      <td>0.0100</td>\n",
       "      <td>100.0</td>\n",
       "      <td>hk</td>\n",
       "      <td>1.0</td>\n",
       "      <td>0.0</td>\n",
       "      <td>1</td>\n",
       "    </tr>\n",
       "    <tr>\n",
       "      <th>hk02</th>\n",
       "      <td>hk02</td>\n",
       "      <td>log</td>\n",
       "      <td>factor</td>\n",
       "      <td>1.000</td>\n",
       "      <td>0.0100</td>\n",
       "      <td>100.0</td>\n",
       "      <td>hk</td>\n",
       "      <td>1.0</td>\n",
       "      <td>0.0</td>\n",
       "      <td>1</td>\n",
       "    </tr>\n",
       "    <tr>\n",
       "      <th>sol_awc()</th>\n",
       "      <td>sol_awc()</td>\n",
       "      <td>log</td>\n",
       "      <td>factor</td>\n",
       "      <td>1.001</td>\n",
       "      <td>0.5000</td>\n",
       "      <td>1.5</td>\n",
       "      <td>swat</td>\n",
       "      <td>1.0</td>\n",
       "      <td>-1.0</td>\n",
       "      <td>1</td>\n",
       "    </tr>\n",
       "    <tr>\n",
       "      <th>sy01</th>\n",
       "      <td>sy01</td>\n",
       "      <td>log</td>\n",
       "      <td>factor</td>\n",
       "      <td>0.010</td>\n",
       "      <td>0.0001</td>\n",
       "      <td>0.6</td>\n",
       "      <td>sy</td>\n",
       "      <td>1.0</td>\n",
       "      <td>0.0</td>\n",
       "      <td>1</td>\n",
       "    </tr>\n",
       "    <tr>\n",
       "      <th>sy02</th>\n",
       "      <td>sy02</td>\n",
       "      <td>log</td>\n",
       "      <td>factor</td>\n",
       "      <td>0.010</td>\n",
       "      <td>0.0001</td>\n",
       "      <td>0.6</td>\n",
       "      <td>sy</td>\n",
       "      <td>1.0</td>\n",
       "      <td>0.0</td>\n",
       "      <td>1</td>\n",
       "    </tr>\n",
       "  </tbody>\n",
       "</table>\n",
       "</div>"
      ],
      "text/plain": [
       "              parnme partrans parchglim  parval1  parlbnd  parubnd pargp  \\\n",
       "parnme                                                                     \n",
       "cn2              cn2      log    factor    1.001   0.8000      1.2  swat   \n",
       "esco            esco      log    factor    1.001   0.5000      1.5  swat   \n",
       "hk01            hk01      log    factor    1.000   0.0100    100.0    hk   \n",
       "hk02            hk02      log    factor    1.000   0.0100    100.0    hk   \n",
       "sol_awc()  sol_awc()      log    factor    1.001   0.5000      1.5  swat   \n",
       "sy01            sy01      log    factor    0.010   0.0001      0.6    sy   \n",
       "sy02            sy02      log    factor    0.010   0.0001      0.6    sy   \n",
       "\n",
       "           scale  offset  dercom  \n",
       "parnme                            \n",
       "cn2          1.0    -1.0       1  \n",
       "esco         1.0    -1.0       1  \n",
       "hk01         1.0     0.0       1  \n",
       "hk02         1.0     0.0       1  \n",
       "sol_awc()    1.0    -1.0       1  \n",
       "sy01         1.0     0.0       1  \n",
       "sy02         1.0     0.0       1  "
      ]
     },
     "execution_count": 57,
     "metadata": {},
     "output_type": "execute_result"
    }
   ],
   "source": [
    "pst_read.parameter_data"
   ]
  },
  {
   "cell_type": "code",
   "execution_count": null,
   "id": "c2feeeee-d88a-4003-89aa-3825ec0d1aa1",
   "metadata": {},
   "outputs": [],
   "source": []
  }
 ],
 "metadata": {
  "kernelspec": {
   "display_name": "Python 3 (ipykernel)",
   "language": "python",
   "name": "python3"
  },
  "language_info": {
   "codemirror_mode": {
    "name": "ipython",
    "version": 3
   },
   "file_extension": ".py",
   "mimetype": "text/x-python",
   "name": "python",
   "nbconvert_exporter": "python",
   "pygments_lexer": "ipython3",
   "version": "3.10.12"
  }
 },
 "nbformat": 4,
 "nbformat_minor": 5
}
